{
 "cells": [
  {
   "cell_type": "code",
   "execution_count": 37,
   "metadata": {},
   "outputs": [],
   "source": [
    "import os\n",
    "import numpy as np\n",
    "import pandas as pd\n",
    "import matplotlib.pyplot as plt\n",
    "import seaborn as sns"
   ]
  },
  {
   "cell_type": "code",
   "execution_count": 3,
   "metadata": {},
   "outputs": [
    {
     "data": {
      "text/plain": [
       "(500, 396)"
      ]
     },
     "execution_count": 3,
     "metadata": {},
     "output_type": "execute_result"
    }
   ],
   "source": [
    "times_train = filter(lambda x: x[-3:] == 'txt', os.listdir('data_times_merged/train'))\n",
    "times_train = ['data_times_merged/train/' + file for file in times_train]\n",
    "times_test = filter(lambda x: x[-3:] == 'txt', os.listdir('data_times_merged/test'))\n",
    "times_test = ['data_times_merged/test/' + file for file in times_test]\n",
    "len(times_train), len(times_test)"
   ]
  },
  {
   "cell_type": "code",
   "execution_count": 15,
   "metadata": {},
   "outputs": [
    {
     "data": {
      "text/html": [
       "<div>\n",
       "<style scoped>\n",
       "    .dataframe tbody tr th:only-of-type {\n",
       "        vertical-align: middle;\n",
       "    }\n",
       "\n",
       "    .dataframe tbody tr th {\n",
       "        vertical-align: top;\n",
       "    }\n",
       "\n",
       "    .dataframe thead th {\n",
       "        text-align: right;\n",
       "    }\n",
       "</style>\n",
       "<table border=\"1\" class=\"dataframe\">\n",
       "  <thead>\n",
       "    <tr style=\"text-align: right;\">\n",
       "      <th></th>\n",
       "      <th>Class</th>\n",
       "      <th>x_center</th>\n",
       "      <th>y_center</th>\n",
       "      <th>width</th>\n",
       "      <th>height</th>\n",
       "      <th>path</th>\n",
       "    </tr>\n",
       "  </thead>\n",
       "  <tbody>\n",
       "    <tr>\n",
       "      <th>0</th>\n",
       "      <td>0</td>\n",
       "      <td>0.756640</td>\n",
       "      <td>0.590975</td>\n",
       "      <td>0.206480</td>\n",
       "      <td>0.144478</td>\n",
       "      <td>data_times_merged/train/1.txt</td>\n",
       "    </tr>\n",
       "    <tr>\n",
       "      <th>1</th>\n",
       "      <td>0</td>\n",
       "      <td>0.310541</td>\n",
       "      <td>0.552692</td>\n",
       "      <td>0.184940</td>\n",
       "      <td>0.124377</td>\n",
       "      <td>data_times_merged/train/1.txt</td>\n",
       "    </tr>\n",
       "    <tr>\n",
       "      <th>0</th>\n",
       "      <td>1</td>\n",
       "      <td>0.214062</td>\n",
       "      <td>0.589352</td>\n",
       "      <td>0.076042</td>\n",
       "      <td>0.069444</td>\n",
       "      <td>data_times_merged/train/100.txt</td>\n",
       "    </tr>\n",
       "    <tr>\n",
       "      <th>1</th>\n",
       "      <td>1</td>\n",
       "      <td>0.378385</td>\n",
       "      <td>0.594444</td>\n",
       "      <td>0.093229</td>\n",
       "      <td>0.096296</td>\n",
       "      <td>data_times_merged/train/100.txt</td>\n",
       "    </tr>\n",
       "    <tr>\n",
       "      <th>2</th>\n",
       "      <td>0</td>\n",
       "      <td>0.560937</td>\n",
       "      <td>0.574537</td>\n",
       "      <td>0.184375</td>\n",
       "      <td>0.128704</td>\n",
       "      <td>data_times_merged/train/100.txt</td>\n",
       "    </tr>\n",
       "  </tbody>\n",
       "</table>\n",
       "</div>"
      ],
      "text/plain": [
       "  Class  x_center  y_center     width    height  \\\n",
       "0     0  0.756640  0.590975  0.206480  0.144478   \n",
       "1     0  0.310541  0.552692  0.184940  0.124377   \n",
       "0     1  0.214062  0.589352  0.076042  0.069444   \n",
       "1     1  0.378385  0.594444  0.093229  0.096296   \n",
       "2     0  0.560937  0.574537  0.184375  0.128704   \n",
       "\n",
       "                              path  \n",
       "0    data_times_merged/train/1.txt  \n",
       "1    data_times_merged/train/1.txt  \n",
       "0  data_times_merged/train/100.txt  \n",
       "1  data_times_merged/train/100.txt  \n",
       "2  data_times_merged/train/100.txt  "
      ]
     },
     "execution_count": 15,
     "metadata": {},
     "output_type": "execute_result"
    }
   ],
   "source": [
    "def get_box_df(path):\n",
    "    try:\n",
    "        df = pd.read_csv(path, sep=' ')\n",
    "    except Exception:\n",
    "        return pd.DataFrame(columns=['Class', 'x_center', 'y_center', 'width', 'height', 'path'])\n",
    "    df.columns = ['Class', 'x_center', 'y_center', 'width', 'height']\n",
    "    df['path'] = path\n",
    "    return df\n",
    "df_times = pd.concat(get_box_df(path) for path in times_train + times_test)\n",
    "df_times.head()"
   ]
  },
  {
   "cell_type": "code",
   "execution_count": 16,
   "metadata": {},
   "outputs": [
    {
     "data": {
      "text/plain": [
       "9170"
      ]
     },
     "execution_count": 16,
     "metadata": {},
     "output_type": "execute_result"
    }
   ],
   "source": [
    "df_times.shape[0]"
   ]
  },
  {
   "cell_type": "code",
   "execution_count": 24,
   "metadata": {},
   "outputs": [
    {
     "data": {
      "image/png": "[encoded data removed]",
      "text/plain": [
       "<Figure size 432x288 with 1 Axes>"
      ]
     },
     "metadata": {
      "needs_background": "light"
     },
     "output_type": "display_data"
    }
   ],
   "source": [
    "ax = df_times.groupby('Class').size().plot.bar()\n",
    "ax.set_xticklabels(['Car', 'Motorbike', 'Bus', 'Truck'], rotation='horizontal')\n",
    "for p in ax.patches:\n",
    "    ax.annotate(str(p.get_height()), (p.get_x() + 0.125, p.get_height() * 1.005))"
   ]
  },
  {
   "cell_type": "code",
   "execution_count": 36,
   "metadata": {},
   "outputs": [
    {
     "data": {
      "text/plain": [
       "(array([32., 34., 39., 52., 63., 55., 51., 36., 24., 24., 30., 36., 45.,\n",
       "        55., 49., 51., 51., 49., 36., 32., 22., 13., 10.,  1.,  6.]),\n",
       " array([ 0.,  1.,  2.,  3.,  4.,  5.,  6.,  7.,  8.,  9., 10., 11., 12.,\n",
       "        13., 14., 15., 16., 17., 18., 19., 20., 21., 22., 23., 24., 25.]),\n",
       " <BarContainer object of 25 artists>)"
      ]
     },
     "execution_count": 36,
     "metadata": {},
     "output_type": "execute_result"
    },
    {
     "data": {
      "image/png": "[encoded data removed]",
      "text/plain": [
       "<Figure size 432x288 with 1 Axes>"
      ]
     },
     "metadata": {
      "needs_background": "light"
     },
     "output_type": "display_data"
    }
   ],
   "source": [
    "box_per_frame = df_times.groupby('path').size().to_list()\n",
    "box_per_frame.extend([0] * 32)\n",
    "plt.hist(box_per_frame, bins=25, edgecolor='k')"
   ]
  },
  {
   "cell_type": "code",
   "execution_count": 42,
   "metadata": {},
   "outputs": [
    {
     "data": {
      "text/plain": [
       "(0.0, 0.1)"
      ]
     },
     "execution_count": 42,
     "metadata": {},
     "output_type": "execute_result"
    },
    {
     "data": {
      "image/png": "[encoded data removed]",
      "text/plain": [
       "<Figure size 432x288 with 1 Axes>"
      ]
     },
     "metadata": {
      "needs_background": "light"
     },
     "output_type": "display_data"
    }
   ],
   "source": [
    "ax = sns.kdeplot(df_times.width * df_times.height)\n",
    "ax.set_xlim(0, 0.1)"
   ]
  },
  {
   "cell_type": "code",
   "execution_count": 50,
   "metadata": {},
   "outputs": [
    {
     "data": {
      "image/png": "[encoded data removed]",
      "text/plain": [
       "<Figure size 1008x288 with 3 Axes>"
      ]
     },
     "metadata": {
      "needs_background": "light"
     },
     "output_type": "display_data"
    }
   ],
   "source": [
    "fig, ax = plt.subplots(1, 3, figsize=(14, 4))\n",
    "df_times.groupby('Class').size().plot.bar(ax=ax[0])\n",
    "ax[0].set_xticklabels(['Car', 'Motorbike', 'Bus', 'Truck'], rotation='horizontal')\n",
    "for p in ax[0].patches:\n",
    "    ax[0].annotate(str(p.get_height()), (p.get_x() + 0.1, p.get_height() * 1.005))\n",
    "ax[0].set_ylabel('#Boxes')\n",
    "ax[0].set_title('Number of boxes per class')\n",
    "    \n",
    "box_per_frame = df_times.groupby('path').size().to_list()\n",
    "box_per_frame.extend([0] * 32)\n",
    "ax[1].hist(box_per_frame, bins=25, edgecolor='k')\n",
    "ax[1].set_xlabel('#Boxes')\n",
    "ax[1].set_ylabel('#Images')\n",
    "ax[1].set_title('No. boxes in each images')\n",
    "\n",
    "sns.kdeplot(df_times.width * df_times.height, ax=ax[2])\n",
    "ax[2].set_xlim(0, 0.1)\n",
    "ax[2].set_xlabel('Box area')\n",
    "ax[2].set_title('Distribution of box relative area')\n",
    "fig.savefig('times_data.png')"
   ]
  },
  {
   "cell_type": "code",
   "execution_count": 52,
   "metadata": {},
   "outputs": [
    {
     "name": "stdout",
     "output_type": "stream",
     "text": [
      "240 104\n"
     ]
    },
    {
     "data": {
      "text/html": [
       "<div>\n",
       "<style scoped>\n",
       "    .dataframe tbody tr th:only-of-type {\n",
       "        vertical-align: middle;\n",
       "    }\n",
       "\n",
       "    .dataframe tbody tr th {\n",
       "        vertical-align: top;\n",
       "    }\n",
       "\n",
       "    .dataframe thead th {\n",
       "        text-align: right;\n",
       "    }\n",
       "</style>\n",
       "<table border=\"1\" class=\"dataframe\">\n",
       "  <thead>\n",
       "    <tr style=\"text-align: right;\">\n",
       "      <th></th>\n",
       "      <th>Class</th>\n",
       "      <th>x_center</th>\n",
       "      <th>y_center</th>\n",
       "      <th>width</th>\n",
       "      <th>height</th>\n",
       "      <th>path</th>\n",
       "    </tr>\n",
       "  </thead>\n",
       "  <tbody>\n",
       "    <tr>\n",
       "      <th>0</th>\n",
       "      <td>3</td>\n",
       "      <td>0.766602</td>\n",
       "      <td>0.502924</td>\n",
       "      <td>0.130859</td>\n",
       "      <td>0.269006</td>\n",
       "      <td>truck_jpg/train/1.txt</td>\n",
       "    </tr>\n",
       "    <tr>\n",
       "      <th>1</th>\n",
       "      <td>3</td>\n",
       "      <td>0.436523</td>\n",
       "      <td>0.459064</td>\n",
       "      <td>0.158203</td>\n",
       "      <td>0.309942</td>\n",
       "      <td>truck_jpg/train/1.txt</td>\n",
       "    </tr>\n",
       "    <tr>\n",
       "      <th>2</th>\n",
       "      <td>3</td>\n",
       "      <td>0.636719</td>\n",
       "      <td>0.478070</td>\n",
       "      <td>0.121094</td>\n",
       "      <td>0.260234</td>\n",
       "      <td>truck_jpg/train/1.txt</td>\n",
       "    </tr>\n",
       "    <tr>\n",
       "      <th>3</th>\n",
       "      <td>3</td>\n",
       "      <td>0.699219</td>\n",
       "      <td>0.255848</td>\n",
       "      <td>0.054688</td>\n",
       "      <td>0.114035</td>\n",
       "      <td>truck_jpg/train/1.txt</td>\n",
       "    </tr>\n",
       "    <tr>\n",
       "      <th>4</th>\n",
       "      <td>3</td>\n",
       "      <td>0.508789</td>\n",
       "      <td>0.350877</td>\n",
       "      <td>0.107422</td>\n",
       "      <td>0.198830</td>\n",
       "      <td>truck_jpg/train/1.txt</td>\n",
       "    </tr>\n",
       "  </tbody>\n",
       "</table>\n",
       "</div>"
      ],
      "text/plain": [
       "  Class  x_center  y_center     width    height                   path\n",
       "0     3  0.766602  0.502924  0.130859  0.269006  truck_jpg/train/1.txt\n",
       "1     3  0.436523  0.459064  0.158203  0.309942  truck_jpg/train/1.txt\n",
       "2     3  0.636719  0.478070  0.121094  0.260234  truck_jpg/train/1.txt\n",
       "3     3  0.699219  0.255848  0.054688  0.114035  truck_jpg/train/1.txt\n",
       "4     3  0.508789  0.350877  0.107422  0.198830  truck_jpg/train/1.txt"
      ]
     },
     "execution_count": 52,
     "metadata": {},
     "output_type": "execute_result"
    }
   ],
   "source": [
    "yt_train = filter(lambda x: x[-3:] == 'txt', os.listdir('truck_jpg/train'))\n",
    "yt_train = ['truck_jpg/train/' + file for file in yt_train]\n",
    "yt_test = filter(lambda x: x[-3:] == 'txt', os.listdir('truck_jpg/test'))\n",
    "yt_test = ['truck_jpg/test/' + file for file in yt_test]\n",
    "print(len(yt_train), len(yt_test))\n",
    "\n",
    "df_yt = pd.concat(get_box_df(path) for path in yt_train + yt_test)\n",
    "df_yt.head()"
   ]
  },
  {
   "cell_type": "code",
   "execution_count": 56,
   "metadata": {},
   "outputs": [
    {
     "data": {
      "text/plain": [
       "(1731, 6)"
      ]
     },
     "execution_count": 56,
     "metadata": {},
     "output_type": "execute_result"
    }
   ],
   "source": [
    "df_yt.shape"
   ]
  },
  {
   "cell_type": "code",
   "execution_count": 55,
   "metadata": {},
   "outputs": [
    {
     "data": {
      "image/png": "[encoded data removed]",
      "text/plain": [
       "<Figure size 1008x288 with 3 Axes>"
      ]
     },
     "metadata": {
      "needs_background": "light"
     },
     "output_type": "display_data"
    }
   ],
   "source": [
    "fig, ax = plt.subplots(1, 3, figsize=(14, 4))\n",
    "df_yt.groupby('Class').size().plot.bar(ax=ax[0])\n",
    "ax[0].set_xticklabels(['Car', 'Motorbike', 'Bus', 'Truck'], rotation='horizontal')\n",
    "for p in ax[0].patches:\n",
    "    ax[0].annotate(str(p.get_height()), (p.get_x() + 0.1, p.get_height() * 1.005))\n",
    "ax[0].set_ylabel('#Boxes')\n",
    "ax[0].set_title('Number of boxes per class')\n",
    "    \n",
    "box_per_frame = df_yt.groupby('path').size().to_list()\n",
    "box_per_frame.extend([0] * 13)\n",
    "ax[1].hist(box_per_frame, bins=25, edgecolor='k')\n",
    "ax[1].set_xlabel('#Boxes')\n",
    "ax[1].set_ylabel('#Images')\n",
    "ax[1].set_title('No. boxes in each images')\n",
    "\n",
    "sns.kdeplot(df_yt.width * df_yt.height, ax=ax[2])\n",
    "ax[2].set_xlim(0, 0.1)\n",
    "ax[2].set_xlabel('Box area')\n",
    "ax[2].set_title('Distribution of box relative area')\n",
    "fig.savefig('yt_data.png')"
   ]
  }
 ],
 "metadata": {
  "kernelspec": {
   "display_name": "Python3_Vin_DL",
   "language": "python",
   "name": "vin_dl"
  },
  "language_info": {
   "codemirror_mode": {
    "name": "ipython",
    "version": 3
   },
   "file_extension": ".py",
   "mimetype": "text/x-python",
   "name": "python",
   "nbconvert_exporter": "python",
   "pygments_lexer": "ipython3",
   "version": "3.8.5"
  }
 },
 "nbformat": 4,
 "nbformat_minor": 4
}
